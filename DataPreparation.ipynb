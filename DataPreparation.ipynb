{
 "cells": [
  {
   "cell_type": "markdown",
   "metadata": {
    "id": "DGc8pQSsYWrc"
   },
   "source": [
    "## Data Preparation"
   ]
  },
  {
   "cell_type": "markdown",
   "metadata": {
    "id": "QiEROTYZYuED"
   },
   "source": [
    "### Dataset 1: Stanik et al."
   ]
  },
  {
   "cell_type": "code",
   "execution_count": null,
   "metadata": {
    "colab": {
     "base_uri": "https://localhost:8080/"
    },
    "executionInfo": {
     "elapsed": 3195,
     "status": "ok",
     "timestamp": 1668497619623,
     "user": {
      "displayName": "Michelle B",
      "userId": "14422970263068521874"
     },
     "user_tz": -60
    },
    "id": "sYCg1W0nYv85",
    "outputId": "37b75b0b-be7a-49c9-adb0-25cde6d24036"
   },
   "outputs": [
    {
     "name": "stdout",
     "output_type": "stream",
     "text": [
      "Drive already mounted at /content/drive; to attempt to forcibly remount, call drive.mount(\"/content/drive\", force_remount=True).\n"
     ]
    }
   ],
   "source": [
    "# Imports\n",
    "import pandas as pd\n",
    "from sklearn.utils import shuffle\n",
    "from sklearn.metrics import cohen_kappa_score\n",
    "\n",
    "# Set up google drive connection\n",
    "from google.colab import drive\n",
    "drive.mount('/content/drive')\n",
    "\n",
    "# Get dataset from google drive\n",
    "\n",
    "# Dataset labeled by rater 1 and 2\n",
    "df1 = pd.read_excel('/content/drive/MyDrive/KANO Modell Studie/Datasets/LabeledDatasets/DATASET_labeled.xlsx')\n",
    "\n",
    "# Import of dataset without google drive\n",
    "# df1 = pd.read_excel('DATASET_labeled.xlsx')"
   ]
  },
  {
   "cell_type": "code",
   "execution_count": null,
   "metadata": {
    "colab": {
     "base_uri": "https://localhost:8080/"
    },
    "executionInfo": {
     "elapsed": 22,
     "status": "ok",
     "timestamp": 1668497619624,
     "user": {
      "displayName": "Michelle B",
      "userId": "14422970263068521874"
     },
     "user_tz": -60
    },
    "id": "gu7tbpT4ZMZW",
    "outputId": "d5e6a78a-1bb5-40d7-e3ad-f2563b055149"
   },
   "outputs": [
    {
     "name": "stdout",
     "output_type": "stream",
     "text": [
      "<class 'pandas.core.frame.DataFrame'>\n",
      "RangeIndex: 6405 entries, 0 to 6404\n",
      "Data columns (total 7 columns):\n",
      " #   Column       Non-Null Count  Dtype \n",
      "---  ------       --------------  ----- \n",
      " 0   id           6405 non-null   int64 \n",
      " 1   category     6405 non-null   object\n",
      " 2   review       6390 non-null   object\n",
      " 3   attribute    6405 non-null   object\n",
      " 4   attribute2   342 non-null    object\n",
      " 5   attribute3   409 non-null    object\n",
      " 6   kano_labels  6353 non-null   object\n",
      "dtypes: int64(1), object(6)\n",
      "memory usage: 350.4+ KB\n"
     ]
    }
   ],
   "source": [
    "df1.info()"
   ]
  },
  {
   "cell_type": "code",
   "execution_count": null,
   "metadata": {
    "colab": {
     "base_uri": "https://localhost:8080/"
    },
    "executionInfo": {
     "elapsed": 17,
     "status": "ok",
     "timestamp": 1668497619624,
     "user": {
      "displayName": "Michelle B",
      "userId": "14422970263068521874"
     },
     "user_tz": -60
    },
    "id": "K56skbNWZmBS",
    "outputId": "7577f772-d9bb-40ad-d32c-0f990482bb19"
   },
   "outputs": [
    {
     "name": "stdout",
     "output_type": "stream",
     "text": [
      "<class 'pandas.core.frame.DataFrame'>\n",
      "Int64Index: 6070 entries, 0 to 6404\n",
      "Data columns (total 2 columns):\n",
      " #   Column       Non-Null Count  Dtype \n",
      "---  ------       --------------  ----- \n",
      " 0   review       6070 non-null   object\n",
      " 1   kano_labels  6070 non-null   object\n",
      "dtypes: object(2)\n",
      "memory usage: 142.3+ KB\n"
     ]
    }
   ],
   "source": [
    "# Delete all irrelevant columns\n",
    "df1 = df1.drop(columns=['id', 'category', 'attribute', 'attribute2', 'attribute3'])\n",
    "\n",
    "# Delete all duplicate reviews\n",
    "df1 = df1.drop_duplicates(subset=['review'])\n",
    "\n",
    "# Delete all rows with null values\n",
    "df1 = df1.dropna()\n",
    "\n",
    "df1.info()"
   ]
  },
  {
   "cell_type": "code",
   "execution_count": null,
   "metadata": {
    "colab": {
     "base_uri": "https://localhost:8080/"
    },
    "executionInfo": {
     "elapsed": 13,
     "status": "ok",
     "timestamp": 1668497619624,
     "user": {
      "displayName": "Michelle B",
      "userId": "14422970263068521874"
     },
     "user_tz": -60
    },
    "id": "pH8jOl5GcXsl",
    "outputId": "58ad82e6-96e8-45aa-8c3c-28c9b41965e1"
   },
   "outputs": [
    {
     "name": "stdout",
     "output_type": "stream",
     "text": [
      "I    2452\n",
      "P    1530\n",
      "B    1440\n",
      "D     648\n",
      "Name: kano_labels, dtype: int64\n"
     ]
    }
   ],
   "source": [
    "# Show the distribution of the labels\n",
    "\n",
    "print(df1['kano_labels'].value_counts())"
   ]
  },
  {
   "cell_type": "code",
   "execution_count": null,
   "metadata": {
    "colab": {
     "base_uri": "https://localhost:8080/"
    },
    "executionInfo": {
     "elapsed": 11,
     "status": "ok",
     "timestamp": 1668497619625,
     "user": {
      "displayName": "Michelle B",
      "userId": "14422970263068521874"
     },
     "user_tz": -60
    },
    "id": "sGge18-2ZjZ5",
    "outputId": "d1de4aa2-6fa9-478a-da94-1ccdd84626ba"
   },
   "outputs": [
    {
     "data": {
      "text/plain": [
       "{'B': 0, 'D': 1, 'I': 2, 'P': 3}"
      ]
     },
     "execution_count": 74,
     "metadata": {},
     "output_type": "execute_result"
    }
   ],
   "source": [
    "# Encode the labels\n",
    "\n",
    "possible_labels = ['B', 'D', 'I', 'P']\n",
    "\n",
    "label_dict = {}\n",
    "for index, possible_label in enumerate(possible_labels):\n",
    "    label_dict[possible_label] = index\n",
    "df1['labels'] = df1.kano_labels.replace(label_dict)\n",
    "label_dict"
   ]
  },
  {
   "cell_type": "code",
   "execution_count": null,
   "metadata": {
    "id": "0Pd4B9aKmfA1"
   },
   "outputs": [],
   "source": [
    "# Save dataframe without downsampling for further use\n",
    "\n",
    "df1.to_excel(\"DATASET_not_downsampled.xlsx\")  "
   ]
  },
  {
   "cell_type": "code",
   "execution_count": null,
   "metadata": {
    "colab": {
     "base_uri": "https://localhost:8080/"
    },
    "executionInfo": {
     "elapsed": 9,
     "status": "ok",
     "timestamp": 1668497620865,
     "user": {
      "displayName": "Michelle B",
      "userId": "14422970263068521874"
     },
     "user_tz": -60
    },
    "id": "qxbvjjPdZRrK",
    "outputId": "a4142b58-252e-43c4-8153-b6ff2bb5498a"
   },
   "outputs": [
    {
     "name": "stdout",
     "output_type": "stream",
     "text": [
      "<class 'pandas.core.frame.DataFrame'>\n",
      "Int64Index: 2592 entries, 6099 to 4201\n",
      "Data columns (total 3 columns):\n",
      " #   Column       Non-Null Count  Dtype \n",
      "---  ------       --------------  ----- \n",
      " 0   review       2592 non-null   object\n",
      " 1   kano_labels  2592 non-null   object\n",
      " 2   labels       2592 non-null   int64 \n",
      "dtypes: int64(1), object(2)\n",
      "memory usage: 81.0+ KB\n"
     ]
    }
   ],
   "source": [
    "# Downsampling\n",
    "\n",
    "# Save different labels in seperate dataframes\n",
    "df1_B = df1[df1['labels'] == 0] # B\n",
    "df1_P = df1[df1['labels'] == 3] # P\n",
    "df1_D = df1[df1['labels'] == 1] # D\n",
    "df1_I = df1[df1['labels'] == 2] # I\n",
    "\n",
    "# Reduce the number of samples to the number of the class with the least samples\n",
    "df1_I_downsampled = df1_I.sample(df1_D.shape[0]) \n",
    "df1_B_downsampled = df1_B.sample(df1_D.shape[0]) \n",
    "df1_P_downsampled = df1_P.sample(df1_D.shape[0]) \n",
    "\n",
    "# Combine the dataframes\n",
    "df1_downsampled = pd.concat([df1_I_downsampled, df1_B_downsampled, df1_P_downsampled, df1_D])\n",
    "df1 = df1_downsampled\n",
    "\n",
    "df1 = shuffle(df1)\n",
    "df1.info()"
   ]
  },
  {
   "cell_type": "code",
   "execution_count": null,
   "metadata": {
    "colab": {
     "base_uri": "https://localhost:8080/"
    },
    "executionInfo": {
     "elapsed": 5,
     "status": "ok",
     "timestamp": 1668497620865,
     "user": {
      "displayName": "Michelle B",
      "userId": "14422970263068521874"
     },
     "user_tz": -60
    },
    "id": "S9T4R4ZCZdLU",
    "outputId": "9108ef84-d1bf-4b2f-f788-0c021e8317c0"
   },
   "outputs": [
    {
     "name": "stdout",
     "output_type": "stream",
     "text": [
      "2    648\n",
      "0    648\n",
      "1    648\n",
      "3    648\n",
      "Name: labels, dtype: int64\n"
     ]
    }
   ],
   "source": [
    "# Show the distribution of the labels after downsampling\n",
    "\n",
    "print(df1['labels'].value_counts())"
   ]
  },
  {
   "cell_type": "code",
   "execution_count": null,
   "metadata": {
    "id": "qgjGQJIint0m"
   },
   "outputs": [],
   "source": [
    "# Save dataframe\n",
    "df1.to_excel(\"DATASET_downsampled.xlsx\")  "
   ]
  },
  {
   "cell_type": "markdown",
   "metadata": {
    "id": "nzgnQ4jaX2W2"
   },
   "source": [
    "### Dataset 2: Hannover/ Trainingskorpus "
   ]
  },
  {
   "cell_type": "code",
   "execution_count": null,
   "metadata": {
    "id": "nVGgeGuHaIHP"
   },
   "outputs": [],
   "source": [
    "# Get dataset from google drive\n",
    "\n",
    "# Dataset labeled by rater 1 and rater 2\n",
    "\n",
    "df2_rater1 = pd.read_excel('/content/drive/MyDrive/KANO Modell Studie/Datasets/LabeledDatasets/TrainingskorpusLabeled1.xlsx')\n",
    "df2_rater2 = pd.read_excel('/content/drive/MyDrive/KANO Modell Studie/Datasets/LabeledDatasets/TrainingskorpusLabeled2.xlsx')\n",
    "\n",
    "# Import of datasets without google drive\n",
    "# df2_rater1 = pd.read_excel('TrainingskorpusLabeled1.xlsx')\n",
    "# df2_rater2 = pd.read_excel('TrainingskorpusLabeled2.xlsx')"
   ]
  },
  {
   "cell_type": "code",
   "execution_count": null,
   "metadata": {
    "colab": {
     "base_uri": "https://localhost:8080/"
    },
    "executionInfo": {
     "elapsed": 18,
     "status": "ok",
     "timestamp": 1668497622785,
     "user": {
      "displayName": "Michelle B",
      "userId": "14422970263068521874"
     },
     "user_tz": -60
    },
    "id": "5t-HEBaHgZi8",
    "outputId": "348e8475-2015-434b-c5d3-ad5eca1a430c"
   },
   "outputs": [
    {
     "name": "stdout",
     "output_type": "stream",
     "text": [
      "<class 'pandas.core.frame.DataFrame'>\n",
      "RangeIndex: 1730 entries, 0 to 1729\n",
      "Data columns (total 16 columns):\n",
      " #   Column            Non-Null Count  Dtype \n",
      "---  ------            --------------  ----- \n",
      " 0   id                1730 non-null   int64 \n",
      " 1   data              1730 non-null   object\n",
      " 2   label 1           1728 non-null   object\n",
      " 3   label             1730 non-null   object\n",
      " 4   singlelabel       1730 non-null   object\n",
      " 5   idReview          1730 non-null   int64 \n",
      " 6   Store             1730 non-null   object\n",
      " 7   App               1730 non-null   object\n",
      " 8   App_ID            1730 non-null   object\n",
      " 9   Score             1730 non-null   int64 \n",
      " 10  idRandom          1730 non-null   int64 \n",
      " 11  Autor             1730 non-null   object\n",
      " 12  Originaler Autor  1730 non-null   object\n",
      " 13  Vergleich         1730 non-null   bool  \n",
      " 14  Version           1730 non-null   int64 \n",
      " 15  BinaryLabel       1730 non-null   int64 \n",
      "dtypes: bool(1), int64(6), object(9)\n",
      "memory usage: 204.5+ KB\n"
     ]
    }
   ],
   "source": [
    "df2_rater1.info()"
   ]
  },
  {
   "cell_type": "code",
   "execution_count": null,
   "metadata": {
    "colab": {
     "base_uri": "https://localhost:8080/"
    },
    "executionInfo": {
     "elapsed": 16,
     "status": "ok",
     "timestamp": 1668497622786,
     "user": {
      "displayName": "Michelle B",
      "userId": "14422970263068521874"
     },
     "user_tz": -60
    },
    "id": "l5GtpkBAgZqS",
    "outputId": "037d87d2-b46d-48b2-ac8d-107ecd4eb2b3"
   },
   "outputs": [
    {
     "name": "stdout",
     "output_type": "stream",
     "text": [
      "<class 'pandas.core.frame.DataFrame'>\n",
      "RangeIndex: 1730 entries, 0 to 1729\n",
      "Data columns (total 16 columns):\n",
      " #   Column            Non-Null Count  Dtype  \n",
      "---  ------            --------------  -----  \n",
      " 0   id                1730 non-null   float64\n",
      " 1   data              1730 non-null   object \n",
      " 2   label             1730 non-null   object \n",
      " 3   singlelabel       1730 non-null   object \n",
      " 4   idReview          1730 non-null   float64\n",
      " 5   Store             1730 non-null   object \n",
      " 6   App               1730 non-null   object \n",
      " 7   App_ID            1730 non-null   object \n",
      " 8   Score             1730 non-null   float64\n",
      " 9   idRandom          1730 non-null   float64\n",
      " 10  Autor             1730 non-null   object \n",
      " 11  Originaler Autor  1730 non-null   object \n",
      " 12  Vergleich         1730 non-null   bool   \n",
      " 13  Version           1730 non-null   float64\n",
      " 14  BinaryLabel       1730 non-null   int64  \n",
      " 15  label2            1730 non-null   object \n",
      "dtypes: bool(1), float64(5), int64(1), object(9)\n",
      "memory usage: 204.5+ KB\n"
     ]
    }
   ],
   "source": [
    "df2_rater2.info()"
   ]
  },
  {
   "cell_type": "code",
   "execution_count": null,
   "metadata": {
    "colab": {
     "base_uri": "https://localhost:8080/"
    },
    "executionInfo": {
     "elapsed": 13,
     "status": "ok",
     "timestamp": 1668497622786,
     "user": {
      "displayName": "Michelle B",
      "userId": "14422970263068521874"
     },
     "user_tz": -60
    },
    "id": "LlvV0zA-gdK5",
    "outputId": "c835f672-1cc3-4b06-9ff9-bd125427b4f6"
   },
   "outputs": [
    {
     "name": "stdout",
     "output_type": "stream",
     "text": [
      "<class 'pandas.core.frame.DataFrame'>\n",
      "Int64Index: 1627 entries, 0 to 1626\n",
      "Data columns (total 31 columns):\n",
      " #   Column              Non-Null Count  Dtype  \n",
      "---  ------              --------------  -----  \n",
      " 0   id_x                1627 non-null   int64  \n",
      " 1   data                1627 non-null   object \n",
      " 2   label 1             1625 non-null   object \n",
      " 3   label_x             1627 non-null   object \n",
      " 4   singlelabel_x       1627 non-null   object \n",
      " 5   idReview_x          1627 non-null   int64  \n",
      " 6   Store_x             1627 non-null   object \n",
      " 7   App_x               1627 non-null   object \n",
      " 8   App_ID_x            1627 non-null   object \n",
      " 9   Score_x             1627 non-null   int64  \n",
      " 10  idRandom_x          1627 non-null   int64  \n",
      " 11  Autor_x             1627 non-null   object \n",
      " 12  Originaler Autor_x  1627 non-null   object \n",
      " 13  Vergleich_x         1627 non-null   bool   \n",
      " 14  Version_x           1627 non-null   int64  \n",
      " 15  BinaryLabel_x       1627 non-null   int64  \n",
      " 16  id_y                1627 non-null   float64\n",
      " 17  label_y             1627 non-null   object \n",
      " 18  singlelabel_y       1627 non-null   object \n",
      " 19  idReview_y          1627 non-null   float64\n",
      " 20  Store_y             1627 non-null   object \n",
      " 21  App_y               1627 non-null   object \n",
      " 22  App_ID_y            1627 non-null   object \n",
      " 23  Score_y             1627 non-null   float64\n",
      " 24  idRandom_y          1627 non-null   float64\n",
      " 25  Autor_y             1627 non-null   object \n",
      " 26  Originaler Autor_y  1627 non-null   object \n",
      " 27  Vergleich_y         1627 non-null   bool   \n",
      " 28  Version_y           1627 non-null   float64\n",
      " 29  BinaryLabel_y       1627 non-null   int64  \n",
      " 30  label2              1627 non-null   object \n",
      "dtypes: bool(2), float64(5), int64(7), object(17)\n",
      "memory usage: 384.5+ KB\n"
     ]
    }
   ],
   "source": [
    "# Merge both datasets on data column\n",
    "\n",
    "df2 = pd.merge(df2_rater1, df2_rater2, on='data')\n",
    "df2.info()"
   ]
  },
  {
   "cell_type": "code",
   "execution_count": null,
   "metadata": {
    "colab": {
     "base_uri": "https://localhost:8080/"
    },
    "executionInfo": {
     "elapsed": 11,
     "status": "ok",
     "timestamp": 1668497622786,
     "user": {
      "displayName": "Michelle B",
      "userId": "14422970263068521874"
     },
     "user_tz": -60
    },
    "id": "1cHXs2EcgdOU",
    "outputId": "e86b37cc-9b79-4bda-f4f4-0b0ac6942b6a"
   },
   "outputs": [
    {
     "name": "stdout",
     "output_type": "stream",
     "text": [
      "<class 'pandas.core.frame.DataFrame'>\n",
      "Int64Index: 1627 entries, 0 to 1626\n",
      "Data columns (total 3 columns):\n",
      " #   Column   Non-Null Count  Dtype \n",
      "---  ------   --------------  ----- \n",
      " 0   data     1627 non-null   object\n",
      " 1   label 1  1625 non-null   object\n",
      " 2   label2   1627 non-null   object\n",
      "dtypes: object(3)\n",
      "memory usage: 50.8+ KB\n"
     ]
    }
   ],
   "source": [
    "# Drop irrelevant columns\n",
    "\n",
    "df2 = df2[['data','label 1','label2']]\n",
    "df2.info()"
   ]
  },
  {
   "cell_type": "code",
   "execution_count": null,
   "metadata": {
    "colab": {
     "base_uri": "https://localhost:8080/"
    },
    "executionInfo": {
     "elapsed": 8,
     "status": "ok",
     "timestamp": 1668497622786,
     "user": {
      "displayName": "Michelle B",
      "userId": "14422970263068521874"
     },
     "user_tz": -60
    },
    "id": "77soX7s5gnOq",
    "outputId": "35388370-2c4b-461d-8ce0-49b98b2a1a81"
   },
   "outputs": [
    {
     "name": "stdout",
     "output_type": "stream",
     "text": [
      "<class 'pandas.core.frame.DataFrame'>\n",
      "Int64Index: 1622 entries, 0 to 1626\n",
      "Data columns (total 3 columns):\n",
      " #   Column   Non-Null Count  Dtype \n",
      "---  ------   --------------  ----- \n",
      " 0   review   1622 non-null   object\n",
      " 1   label 1  1622 non-null   object\n",
      " 2   label 2  1622 non-null   object\n",
      "dtypes: object(3)\n",
      "memory usage: 50.7+ KB\n"
     ]
    }
   ],
   "source": [
    "# Rename column\n",
    "df2 = df2.rename(columns={'label2': 'label 2', 'data': 'review'})\n",
    "\n",
    "# Remove null values\n",
    "df2 = df2.dropna(how='any',axis=0) \n",
    "\n",
    "# Remove all duplicate reviews\n",
    "df2 = df2.drop_duplicates(subset=['review'])\n",
    "\n",
    "# Remove rows without label\n",
    "a = ['B' , 'P', 'D', 'I']\n",
    "df2 = df2[df2['label 2'].isin(a)]\n",
    "\n",
    "df2.info()"
   ]
  },
  {
   "cell_type": "code",
   "execution_count": null,
   "metadata": {
    "colab": {
     "base_uri": "https://localhost:8080/"
    },
    "executionInfo": {
     "elapsed": 6,
     "status": "ok",
     "timestamp": 1668497622787,
     "user": {
      "displayName": "Michelle B",
      "userId": "14422970263068521874"
     },
     "user_tz": -60
    },
    "id": "OhUMj8lZgnYb",
    "outputId": "f57588d7-9100-425c-abc3-ad12f2f3ac8c"
   },
   "outputs": [
    {
     "name": "stdout",
     "output_type": "stream",
     "text": [
      "<class 'pandas.core.frame.DataFrame'>\n",
      "Int64Index: 239 entries, 1 to 1625\n",
      "Data columns (total 3 columns):\n",
      " #   Column   Non-Null Count  Dtype \n",
      "---  ------   --------------  ----- \n",
      " 0   review   239 non-null    object\n",
      " 1   label 1  239 non-null    object\n",
      " 2   label 2  239 non-null    object\n",
      "dtypes: object(3)\n",
      "memory usage: 7.5+ KB\n"
     ]
    }
   ],
   "source": [
    "# Save all reviews where raters disagreed in a seperate dataframe\n",
    "df2_unequalLabels = df2[(df2['label 1'] != df2['label 2'])]\n",
    "\n",
    "# Save dataframe\n",
    "df2_unequalLabels.to_excel(\"TrainingskorpusUnequalLabels.xlsx\")  \n",
    "\n",
    "df2_unequalLabels.info()"
   ]
  },
  {
   "cell_type": "code",
   "execution_count": null,
   "metadata": {
    "colab": {
     "base_uri": "https://localhost:8080/"
    },
    "executionInfo": {
     "elapsed": 241,
     "status": "ok",
     "timestamp": 1668497623024,
     "user": {
      "displayName": "Michelle B",
      "userId": "14422970263068521874"
     },
     "user_tz": -60
    },
    "id": "ib19ZmsEgu6F",
    "outputId": "0dca7542-0ba6-4628-8934-ccf1a5056c2e"
   },
   "outputs": [
    {
     "name": "stdout",
     "output_type": "stream",
     "text": [
      "<class 'pandas.core.frame.DataFrame'>\n",
      "Int64Index: 1383 entries, 0 to 1626\n",
      "Data columns (total 2 columns):\n",
      " #   Column       Non-Null Count  Dtype \n",
      "---  ------       --------------  ----- \n",
      " 0   review       1383 non-null   object\n",
      " 1   kano_labels  1383 non-null   object\n",
      "dtypes: object(2)\n",
      "memory usage: 32.4+ KB\n"
     ]
    }
   ],
   "source": [
    "# Save all reviews where raters agreed in a seperate dataframe\n",
    "df2_equalLabels = df2[(df2['label 1'] == df2['label 2'])]\n",
    "\n",
    "df2_equalLabels = df2_equalLabels.drop(columns = 'label 2')\n",
    "\n",
    "df2_equalLabels = df2_equalLabels.rename(columns = {'label 1': 'kano_labels'})\n",
    "\n",
    "# Save dataframe\n",
    "df2_equalLabels.to_excel(\"TrainingskorpusEqualLabels.xlsx\")  \n",
    "\n",
    "df2_equalLabels.info()"
   ]
  },
  {
   "cell_type": "code",
   "execution_count": null,
   "metadata": {
    "colab": {
     "base_uri": "https://localhost:8080/"
    },
    "executionInfo": {
     "elapsed": 12,
     "status": "ok",
     "timestamp": 1668497623024,
     "user": {
      "displayName": "Michelle B",
      "userId": "14422970263068521874"
     },
     "user_tz": -60
    },
    "id": "id8IZ-t3gzrt",
    "outputId": "ec6504c0-2282-4a4b-b0b6-a91811735352"
   },
   "outputs": [
    {
     "name": "stdout",
     "output_type": "stream",
     "text": [
      "B    1109\n",
      "P     393\n",
      "D     102\n",
      "I      18\n",
      "Name: label 1, dtype: int64\n"
     ]
    }
   ],
   "source": [
    "print(df2['label 1'].value_counts())"
   ]
  },
  {
   "cell_type": "code",
   "execution_count": null,
   "metadata": {
    "colab": {
     "base_uri": "https://localhost:8080/"
    },
    "executionInfo": {
     "elapsed": 10,
     "status": "ok",
     "timestamp": 1668497623026,
     "user": {
      "displayName": "Michelle B",
      "userId": "14422970263068521874"
     },
     "user_tz": -60
    },
    "id": "7nzKZPvqgzyn",
    "outputId": "103b4b07-3488-40fc-c7f3-8258eb6c223f"
   },
   "outputs": [
    {
     "name": "stdout",
     "output_type": "stream",
     "text": [
      "B    1049\n",
      "P     389\n",
      "D     162\n",
      "I      22\n",
      "Name: label 2, dtype: int64\n"
     ]
    }
   ],
   "source": [
    "print(df2['label 2'].value_counts())"
   ]
  },
  {
   "cell_type": "code",
   "execution_count": null,
   "metadata": {
    "colab": {
     "base_uri": "https://localhost:8080/"
    },
    "executionInfo": {
     "elapsed": 8,
     "status": "ok",
     "timestamp": 1668497623026,
     "user": {
      "displayName": "Michelle B",
      "userId": "14422970263068521874"
     },
     "user_tz": -60
    },
    "id": "OQfTHVwag3DQ",
    "outputId": "dd2c826f-d811-4630-c3f3-4e2e530401f0"
   },
   "outputs": [
    {
     "name": "stdout",
     "output_type": "stream",
     "text": [
      "Cohens kappa between rater 1 and rater 2:  0.7012836101979895\n"
     ]
    }
   ],
   "source": [
    "# Calculate cohens kappa between rater 1 and rater 2\n",
    "\n",
    "print('Cohens kappa between rater 1 and rater 2: ', cohen_kappa_score(df2['label 1'], df2['label 2']))"
   ]
  },
  {
   "cell_type": "code",
   "execution_count": null,
   "metadata": {
    "id": "n1n497ajg3kV"
   },
   "outputs": [],
   "source": [
    "# Save dataframe\n",
    "df2.to_excel(\"Trainingskorpus_InitialLabels.xlsx\")  "
   ]
  },
  {
   "cell_type": "code",
   "execution_count": null,
   "metadata": {
    "colab": {
     "base_uri": "https://localhost:8080/"
    },
    "executionInfo": {
     "elapsed": 452,
     "status": "ok",
     "timestamp": 1668497623706,
     "user": {
      "displayName": "Michelle B",
      "userId": "14422970263068521874"
     },
     "user_tz": -60
    },
    "id": "D5xEg1agiaJ3",
    "outputId": "3141f3e0-8907-4197-f2d5-46db84e7c2c8"
   },
   "outputs": [
    {
     "name": "stdout",
     "output_type": "stream",
     "text": [
      "<class 'pandas.core.frame.DataFrame'>\n",
      "RangeIndex: 239 entries, 0 to 238\n",
      "Data columns (total 5 columns):\n",
      " #   Column      Non-Null Count  Dtype  \n",
      "---  ------      --------------  -----  \n",
      " 0   Unnamed: 0  239 non-null    float64\n",
      " 1   data        239 non-null    object \n",
      " 2   label 1     239 non-null    object \n",
      " 3   label 2     239 non-null    object \n",
      " 4   label 3     239 non-null    object \n",
      "dtypes: float64(1), object(4)\n",
      "memory usage: 9.5+ KB\n"
     ]
    }
   ],
   "source": [
    "# Import dataset of third rater, who labeles reviews where rater 1 and rater 2 disagreed\n",
    "\n",
    "df2_rater3 = pd.read_excel('/content/drive/MyDrive/KANO Modell Studie/Datasets/LabeledDatasets/TrainingskorpusLabeled3.xlsx')\n",
    "\n",
    "# Import of datasets without google drive\n",
    "# df2_rater3 = pd.read_excel('TrainingskorpusLabeled3.xlsx')\n",
    "\n",
    "df2_rater3.info()"
   ]
  },
  {
   "cell_type": "code",
   "execution_count": null,
   "metadata": {
    "colab": {
     "base_uri": "https://localhost:8080/"
    },
    "executionInfo": {
     "elapsed": 9,
     "status": "ok",
     "timestamp": 1668497623706,
     "user": {
      "displayName": "Michelle B",
      "userId": "14422970263068521874"
     },
     "user_tz": -60
    },
    "id": "6OKZbEXRrrR3",
    "outputId": "810d675f-1ffe-45ef-baec-c1d97e1ae652"
   },
   "outputs": [
    {
     "name": "stdout",
     "output_type": "stream",
     "text": [
      "<class 'pandas.core.frame.DataFrame'>\n",
      "RangeIndex: 239 entries, 0 to 238\n",
      "Data columns (total 2 columns):\n",
      " #   Column       Non-Null Count  Dtype \n",
      "---  ------       --------------  ----- \n",
      " 0   review       239 non-null    object\n",
      " 1   kano_labels  239 non-null    object\n",
      "dtypes: object(2)\n",
      "memory usage: 3.9+ KB\n"
     ]
    }
   ],
   "source": [
    "# Drop irrelevant column\n",
    "df2_rater3 = df2_rater3.drop(columns = {'Unnamed: 0', 'label 1', 'label 2'})\n",
    "\n",
    "# Rename column\n",
    "df2_rater3 = df2_rater3.rename(columns={'data': 'review', 'label 3': 'kano_labels'})\n",
    "\n",
    "df2_rater3.info()"
   ]
  },
  {
   "cell_type": "code",
   "execution_count": null,
   "metadata": {
    "colab": {
     "base_uri": "https://localhost:8080/"
    },
    "executionInfo": {
     "elapsed": 6,
     "status": "ok",
     "timestamp": 1668497623706,
     "user": {
      "displayName": "Michelle B",
      "userId": "14422970263068521874"
     },
     "user_tz": -60
    },
    "id": "IZDX2u4hiaNT",
    "outputId": "334bc9c3-4b67-4db6-fcb5-596729e48d77"
   },
   "outputs": [
    {
     "name": "stdout",
     "output_type": "stream",
     "text": [
      "<class 'pandas.core.frame.DataFrame'>\n",
      "Int64Index: 1622 entries, 0 to 238\n",
      "Data columns (total 2 columns):\n",
      " #   Column       Non-Null Count  Dtype \n",
      "---  ------       --------------  ----- \n",
      " 0   review       1622 non-null   object\n",
      " 1   kano_labels  1622 non-null   object\n",
      "dtypes: object(2)\n",
      "memory usage: 38.0+ KB\n"
     ]
    }
   ],
   "source": [
    "# Combine datasets of rater 1, rater 2 and rater 3 (all reviews where rater 1 and 2 agreed, and those of rater 3)\n",
    "\n",
    "df2_final = df2_equalLabels.append(df2_rater3)\n",
    "df2_final.info()"
   ]
  },
  {
   "cell_type": "code",
   "execution_count": null,
   "metadata": {
    "colab": {
     "base_uri": "https://localhost:8080/"
    },
    "executionInfo": {
     "elapsed": 4,
     "status": "ok",
     "timestamp": 1668497623706,
     "user": {
      "displayName": "Michelle B",
      "userId": "14422970263068521874"
     },
     "user_tz": -60
    },
    "id": "CJTchksZLJHh",
    "outputId": "4d5cf7af-7e2a-410b-dd2e-f859bd8c5cc5"
   },
   "outputs": [
    {
     "name": "stdout",
     "output_type": "stream",
     "text": [
      "B    1102\n",
      "P     395\n",
      "D      95\n",
      "I      30\n",
      "Name: kano_labels, dtype: int64\n"
     ]
    }
   ],
   "source": [
    "print(df2_final['kano_labels'].value_counts())"
   ]
  },
  {
   "cell_type": "code",
   "execution_count": null,
   "metadata": {
    "id": "v3ZP6IkDiaQY"
   },
   "outputs": [],
   "source": [
    "# Save dataframe\n",
    "\n",
    "df2_final.to_excel(\"Trainingskorpus_Final.xlsx\")  "
   ]
  },
  {
   "cell_type": "markdown",
   "metadata": {
    "id": "L7JBw8FjaK2p"
   },
   "source": [
    "### Dataset 3: Combination of Dataset 1 & Dataset 2"
   ]
  },
  {
   "cell_type": "code",
   "execution_count": null,
   "metadata": {
    "colab": {
     "base_uri": "https://localhost:8080/"
    },
    "executionInfo": {
     "elapsed": 389,
     "status": "ok",
     "timestamp": 1668497624674,
     "user": {
      "displayName": "Michelle B",
      "userId": "14422970263068521874"
     },
     "user_tz": -60
    },
    "id": "s7x6TWn7aPcg",
    "outputId": "430b1272-283a-4605-be79-dca0d539aaa9"
   },
   "outputs": [
    {
     "name": "stdout",
     "output_type": "stream",
     "text": [
      "<class 'pandas.core.frame.DataFrame'>\n",
      "RangeIndex: 6070 entries, 0 to 6069\n",
      "Data columns (total 2 columns):\n",
      " #   Column       Non-Null Count  Dtype \n",
      "---  ------       --------------  ----- \n",
      " 0   review       6070 non-null   object\n",
      " 1   kano_labels  6070 non-null   object\n",
      "dtypes: object(2)\n",
      "memory usage: 95.0+ KB\n"
     ]
    }
   ],
   "source": [
    "dataset1 = pd.read_excel('/content/drive/MyDrive/KANO Modell Studie/Datasets/LabeledDatasets/DATASET_not_downsampled.xlsx')\n",
    "dataset2 = pd.read_excel('/content/drive/MyDrive/KANO Modell Studie/Datasets/LabeledDatasets/Trainingskorpus_Final.xlsx')\n",
    "\n",
    "dataset1 = dataset1.drop(columns = ['Unnamed: 0', 'labels'])\n",
    "dataset1.info()"
   ]
  },
  {
   "cell_type": "code",
   "execution_count": null,
   "metadata": {
    "colab": {
     "base_uri": "https://localhost:8080/"
    },
    "executionInfo": {
     "elapsed": 15,
     "status": "ok",
     "timestamp": 1668497624674,
     "user": {
      "displayName": "Michelle B",
      "userId": "14422970263068521874"
     },
     "user_tz": -60
    },
    "id": "2Rms9xjxjhf_",
    "outputId": "01eb7109-b744-4062-e3dd-481aa0146584"
   },
   "outputs": [
    {
     "name": "stdout",
     "output_type": "stream",
     "text": [
      "<class 'pandas.core.frame.DataFrame'>\n",
      "RangeIndex: 1622 entries, 0 to 1621\n",
      "Data columns (total 2 columns):\n",
      " #   Column       Non-Null Count  Dtype \n",
      "---  ------       --------------  ----- \n",
      " 0   review       1622 non-null   object\n",
      " 1   kano_labels  1622 non-null   object\n",
      "dtypes: object(2)\n",
      "memory usage: 25.5+ KB\n"
     ]
    }
   ],
   "source": [
    "dataset2 = dataset2.drop(columns = ['Unnamed: 0'])\n",
    "dataset2.info()"
   ]
  },
  {
   "cell_type": "code",
   "execution_count": null,
   "metadata": {
    "colab": {
     "base_uri": "https://localhost:8080/"
    },
    "executionInfo": {
     "elapsed": 11,
     "status": "ok",
     "timestamp": 1668497624674,
     "user": {
      "displayName": "Michelle B",
      "userId": "14422970263068521874"
     },
     "user_tz": -60
    },
    "id": "ygLFC-y2jkWT",
    "outputId": "c5810734-c60a-4f5f-9535-c38670c86a50"
   },
   "outputs": [
    {
     "name": "stdout",
     "output_type": "stream",
     "text": [
      "<class 'pandas.core.frame.DataFrame'>\n",
      "RangeIndex: 7692 entries, 0 to 7691\n",
      "Data columns (total 2 columns):\n",
      " #   Column       Non-Null Count  Dtype \n",
      "---  ------       --------------  ----- \n",
      " 0   review       7692 non-null   object\n",
      " 1   kano_labels  7692 non-null   object\n",
      "dtypes: object(2)\n",
      "memory usage: 120.3+ KB\n"
     ]
    }
   ],
   "source": [
    "# Combine both datasets\n",
    "\n",
    "df_combined = pd.concat([dataset1, dataset2], ignore_index=True)\n",
    "df_combined.info()"
   ]
  },
  {
   "cell_type": "code",
   "execution_count": null,
   "metadata": {
    "colab": {
     "base_uri": "https://localhost:8080/"
    },
    "executionInfo": {
     "elapsed": 10,
     "status": "ok",
     "timestamp": 1668497624675,
     "user": {
      "displayName": "Michelle B",
      "userId": "14422970263068521874"
     },
     "user_tz": -60
    },
    "id": "OFhdbB6AjnEC",
    "outputId": "d5d69527-705c-4268-d283-be02c22f6497"
   },
   "outputs": [
    {
     "data": {
      "text/plain": [
       "{'B': 0, 'D': 1, 'I': 2, 'P': 3}"
      ]
     },
     "execution_count": 99,
     "metadata": {},
     "output_type": "execute_result"
    }
   ],
   "source": [
    "# Encode the labels\n",
    "\n",
    "possible_labels_2 = ['B', 'D', 'I', 'P']\n",
    "\n",
    "label_dict_2 = {}\n",
    "for index, possible_label in enumerate(possible_labels_2):\n",
    "    label_dict_2[possible_label] = index\n",
    "df_combined['labels'] = df_combined.kano_labels.replace(label_dict_2)\n",
    "label_dict_2"
   ]
  },
  {
   "cell_type": "code",
   "execution_count": null,
   "metadata": {
    "colab": {
     "base_uri": "https://localhost:8080/"
    },
    "executionInfo": {
     "elapsed": 8,
     "status": "ok",
     "timestamp": 1668497624675,
     "user": {
      "displayName": "Michelle B",
      "userId": "14422970263068521874"
     },
     "user_tz": -60
    },
    "id": "x-fB38br09kc",
    "outputId": "75ed3d1a-fe89-41e0-f99d-011ddda7d5cf"
   },
   "outputs": [
    {
     "name": "stdout",
     "output_type": "stream",
     "text": [
      "B    2542\n",
      "I    2482\n",
      "P    1925\n",
      "D     743\n",
      "Name: kano_labels, dtype: int64\n"
     ]
    }
   ],
   "source": [
    "# Show the distribution of the labels before downsampling\n",
    "\n",
    "print(df_combined['kano_labels'].value_counts())"
   ]
  },
  {
   "cell_type": "code",
   "execution_count": null,
   "metadata": {
    "colab": {
     "base_uri": "https://localhost:8080/",
     "height": 424
    },
    "executionInfo": {
     "elapsed": 260,
     "status": "ok",
     "timestamp": 1668497624930,
     "user": {
      "displayName": "Michelle B",
      "userId": "14422970263068521874"
     },
     "user_tz": -60
    },
    "id": "9Y2WLejFjp9p",
    "outputId": "9109a904-af11-45ae-b1c5-9d8b969ef7b7"
   },
   "outputs": [
    {
     "data": {
      "text/html": [
       "\n",
       "  <div id=\"df-7b0ae2d5-facb-4e70-aea1-3ad5f761d965\">\n",
       "    <div class=\"colab-df-container\">\n",
       "      <div>\n",
       "<style scoped>\n",
       "    .dataframe tbody tr th:only-of-type {\n",
       "        vertical-align: middle;\n",
       "    }\n",
       "\n",
       "    .dataframe tbody tr th {\n",
       "        vertical-align: top;\n",
       "    }\n",
       "\n",
       "    .dataframe thead th {\n",
       "        text-align: right;\n",
       "    }\n",
       "</style>\n",
       "<table border=\"1\" class=\"dataframe\">\n",
       "  <thead>\n",
       "    <tr style=\"text-align: right;\">\n",
       "      <th></th>\n",
       "      <th>review</th>\n",
       "      <th>kano_labels</th>\n",
       "      <th>labels</th>\n",
       "    </tr>\n",
       "  </thead>\n",
       "  <tbody>\n",
       "    <tr>\n",
       "      <th>98</th>\n",
       "      <td>Update ruined it Loved this game. My husband n...</td>\n",
       "      <td>B</td>\n",
       "      <td>0</td>\n",
       "    </tr>\n",
       "    <tr>\n",
       "      <th>5928</th>\n",
       "      <td>I love audiobooks! It's made my long days of b...</td>\n",
       "      <td>D</td>\n",
       "      <td>1</td>\n",
       "    </tr>\n",
       "    <tr>\n",
       "      <th>2175</th>\n",
       "      <td>Good Ok</td>\n",
       "      <td>I</td>\n",
       "      <td>2</td>\n",
       "    </tr>\n",
       "    <tr>\n",
       "      <th>2924</th>\n",
       "      <td>Where is the Dropbox support? On top of the ot...</td>\n",
       "      <td>P</td>\n",
       "      <td>3</td>\n",
       "    </tr>\n",
       "    <tr>\n",
       "      <th>3662</th>\n",
       "      <td>Won't open  Really wanted to try this but it c...</td>\n",
       "      <td>B</td>\n",
       "      <td>0</td>\n",
       "    </tr>\n",
       "    <tr>\n",
       "      <th>...</th>\n",
       "      <td>...</td>\n",
       "      <td>...</td>\n",
       "      <td>...</td>\n",
       "    </tr>\n",
       "    <tr>\n",
       "      <th>4715</th>\n",
       "      <td>BEST APP EVER!  Having Press Reader has allowe...</td>\n",
       "      <td>D</td>\n",
       "      <td>1</td>\n",
       "    </tr>\n",
       "    <tr>\n",
       "      <th>6912</th>\n",
       "      <td>I hope the latest update fixes this old and co...</td>\n",
       "      <td>B</td>\n",
       "      <td>0</td>\n",
       "    </tr>\n",
       "    <tr>\n",
       "      <th>6099</th>\n",
       "      <td>Downgrading from 5 to 3 stars. It's a good nav...</td>\n",
       "      <td>P</td>\n",
       "      <td>3</td>\n",
       "    </tr>\n",
       "    <tr>\n",
       "      <th>7686</th>\n",
       "      <td>Please remove the unhappy face for sleep. It i...</td>\n",
       "      <td>D</td>\n",
       "      <td>1</td>\n",
       "    </tr>\n",
       "    <tr>\n",
       "      <th>2373</th>\n",
       "      <td>Love it Ive never had any problems  Uploads an...</td>\n",
       "      <td>P</td>\n",
       "      <td>3</td>\n",
       "    </tr>\n",
       "  </tbody>\n",
       "</table>\n",
       "<p>2972 rows × 3 columns</p>\n",
       "</div>\n",
       "      <button class=\"colab-df-convert\" onclick=\"convertToInteractive('df-7b0ae2d5-facb-4e70-aea1-3ad5f761d965')\"\n",
       "              title=\"Convert this dataframe to an interactive table.\"\n",
       "              style=\"display:none;\">\n",
       "        \n",
       "  <svg xmlns=\"http://www.w3.org/2000/svg\" height=\"24px\"viewBox=\"0 0 24 24\"\n",
       "       width=\"24px\">\n",
       "    <path d=\"M0 0h24v24H0V0z\" fill=\"none\"/>\n",
       "    <path d=\"M18.56 5.44l.94 2.06.94-2.06 2.06-.94-2.06-.94-.94-2.06-.94 2.06-2.06.94zm-11 1L8.5 8.5l.94-2.06 2.06-.94-2.06-.94L8.5 2.5l-.94 2.06-2.06.94zm10 10l.94 2.06.94-2.06 2.06-.94-2.06-.94-.94-2.06-.94 2.06-2.06.94z\"/><path d=\"M17.41 7.96l-1.37-1.37c-.4-.4-.92-.59-1.43-.59-.52 0-1.04.2-1.43.59L10.3 9.45l-7.72 7.72c-.78.78-.78 2.05 0 2.83L4 21.41c.39.39.9.59 1.41.59.51 0 1.02-.2 1.41-.59l7.78-7.78 2.81-2.81c.8-.78.8-2.07 0-2.86zM5.41 20L4 18.59l7.72-7.72 1.47 1.35L5.41 20z\"/>\n",
       "  </svg>\n",
       "      </button>\n",
       "      \n",
       "  <style>\n",
       "    .colab-df-container {\n",
       "      display:flex;\n",
       "      flex-wrap:wrap;\n",
       "      gap: 12px;\n",
       "    }\n",
       "\n",
       "    .colab-df-convert {\n",
       "      background-color: #E8F0FE;\n",
       "      border: none;\n",
       "      border-radius: 50%;\n",
       "      cursor: pointer;\n",
       "      display: none;\n",
       "      fill: #1967D2;\n",
       "      height: 32px;\n",
       "      padding: 0 0 0 0;\n",
       "      width: 32px;\n",
       "    }\n",
       "\n",
       "    .colab-df-convert:hover {\n",
       "      background-color: #E2EBFA;\n",
       "      box-shadow: 0px 1px 2px rgba(60, 64, 67, 0.3), 0px 1px 3px 1px rgba(60, 64, 67, 0.15);\n",
       "      fill: #174EA6;\n",
       "    }\n",
       "\n",
       "    [theme=dark] .colab-df-convert {\n",
       "      background-color: #3B4455;\n",
       "      fill: #D2E3FC;\n",
       "    }\n",
       "\n",
       "    [theme=dark] .colab-df-convert:hover {\n",
       "      background-color: #434B5C;\n",
       "      box-shadow: 0px 1px 3px 1px rgba(0, 0, 0, 0.15);\n",
       "      filter: drop-shadow(0px 1px 2px rgba(0, 0, 0, 0.3));\n",
       "      fill: #FFFFFF;\n",
       "    }\n",
       "  </style>\n",
       "\n",
       "      <script>\n",
       "        const buttonEl =\n",
       "          document.querySelector('#df-7b0ae2d5-facb-4e70-aea1-3ad5f761d965 button.colab-df-convert');\n",
       "        buttonEl.style.display =\n",
       "          google.colab.kernel.accessAllowed ? 'block' : 'none';\n",
       "\n",
       "        async function convertToInteractive(key) {\n",
       "          const element = document.querySelector('#df-7b0ae2d5-facb-4e70-aea1-3ad5f761d965');\n",
       "          const dataTable =\n",
       "            await google.colab.kernel.invokeFunction('convertToInteractive',\n",
       "                                                     [key], {});\n",
       "          if (!dataTable) return;\n",
       "\n",
       "          const docLinkHtml = 'Like what you see? Visit the ' +\n",
       "            '<a target=\"_blank\" href=https://colab.research.google.com/notebooks/data_table.ipynb>data table notebook</a>'\n",
       "            + ' to learn more about interactive tables.';\n",
       "          element.innerHTML = '';\n",
       "          dataTable['output_type'] = 'display_data';\n",
       "          await google.colab.output.renderOutput(dataTable, element);\n",
       "          const docLink = document.createElement('div');\n",
       "          docLink.innerHTML = docLinkHtml;\n",
       "          element.appendChild(docLink);\n",
       "        }\n",
       "      </script>\n",
       "    </div>\n",
       "  </div>\n",
       "  "
      ],
      "text/plain": [
       "                                                 review kano_labels  labels\n",
       "98    Update ruined it Loved this game. My husband n...           B       0\n",
       "5928  I love audiobooks! It's made my long days of b...           D       1\n",
       "2175                                            Good Ok           I       2\n",
       "2924  Where is the Dropbox support? On top of the ot...           P       3\n",
       "3662  Won't open  Really wanted to try this but it c...           B       0\n",
       "...                                                 ...         ...     ...\n",
       "4715  BEST APP EVER!  Having Press Reader has allowe...           D       1\n",
       "6912  I hope the latest update fixes this old and co...           B       0\n",
       "6099  Downgrading from 5 to 3 stars. It's a good nav...           P       3\n",
       "7686  Please remove the unhappy face for sleep. It i...           D       1\n",
       "2373  Love it Ive never had any problems  Uploads an...           P       3\n",
       "\n",
       "[2972 rows x 3 columns]"
      ]
     },
     "execution_count": 101,
     "metadata": {},
     "output_type": "execute_result"
    }
   ],
   "source": [
    "# Downsampling \n",
    "\n",
    "# Save different labels in seperate dataframes\n",
    "df_combined_B = df_combined[df_combined['labels'] == 0] # B\n",
    "df_combined_P = df_combined[df_combined['labels'] == 3] # P\n",
    "df_combined_D = df_combined[df_combined['labels'] == 1] # D\n",
    "df_combined_I = df_combined[df_combined['labels'] == 2] # I\n",
    "\n",
    "# Reduce the number of samples to the number of the class with the least samples\n",
    "df_combined_I_downsampled = df_combined_I.sample(df_combined_D.shape[0]) \n",
    "df_combined_B_downsampled = df_combined_B.sample(df_combined_D.shape[0]) \n",
    "df_combined_P_downsampled = df_combined_P.sample(df_combined_D.shape[0]) \n",
    "\n",
    "# Combine the dataframes\n",
    "df_combined_downsampled = pd.concat([df_combined_I_downsampled, df_combined_B_downsampled, df_combined_P_downsampled, df_combined_D])\n",
    "df_combined=df_combined_downsampled\n",
    "\n",
    "df_combined=shuffle(df_combined)\n",
    "df_combined"
   ]
  },
  {
   "cell_type": "code",
   "execution_count": null,
   "metadata": {
    "colab": {
     "base_uri": "https://localhost:8080/"
    },
    "executionInfo": {
     "elapsed": 4,
     "status": "ok",
     "timestamp": 1668497624931,
     "user": {
      "displayName": "Michelle B",
      "userId": "14422970263068521874"
     },
     "user_tz": -60
    },
    "id": "YWp8HSfVjsxf",
    "outputId": "a5082cc3-f037-4c2f-fca9-039e597404f0"
   },
   "outputs": [
    {
     "name": "stdout",
     "output_type": "stream",
     "text": [
      "0    743\n",
      "1    743\n",
      "2    743\n",
      "3    743\n",
      "Name: labels, dtype: int64\n"
     ]
    }
   ],
   "source": [
    "# Show the distribution of the labels after downsampling\n",
    "\n",
    "print(df_combined['labels'].value_counts())"
   ]
  },
  {
   "cell_type": "code",
   "execution_count": null,
   "metadata": {
    "id": "dFxJPuSvmEpo"
   },
   "outputs": [],
   "source": [
    "# Save dataframe\n",
    "\n",
    "df_combined.to_excel(\"DATASET_Trainingskorpus_combined.xlsx\")  "
   ]
  },
  {
   "cell_type": "code",
   "execution_count": null,
   "metadata": {
    "id": "etlagh8BLgW4"
   },
   "outputs": [],
   "source": []
  }
 ],
 "metadata": {
  "colab": {
   "authorship_tag": "ABX9TyMZT174Q+U+pCkviCdNXUqc",
   "collapsed_sections": [],
   "provenance": [
    {
     "file_id": "15-xrQ0e_PX6HYMYQBn0mqyX5fWruQftM",
     "timestamp": 1665311523868
    }
   ]
  },
  "kernelspec": {
   "display_name": "Python 3 (ipykernel)",
   "language": "python",
   "name": "python3"
  },
  "language_info": {
   "codemirror_mode": {
    "name": "ipython",
    "version": 3
   },
   "file_extension": ".py",
   "mimetype": "text/x-python",
   "name": "python",
   "nbconvert_exporter": "python",
   "pygments_lexer": "ipython3",
   "version": "3.10.6"
  }
 },
 "nbformat": 4,
 "nbformat_minor": 1
}
