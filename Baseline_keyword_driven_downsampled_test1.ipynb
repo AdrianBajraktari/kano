{
  "cells": [
    {
      "cell_type": "code",
      "execution_count": 109,
      "metadata": {
        "id": "mh7yA8sRwjH-"
      },
      "outputs": [],
      "source": [
        "# Imports\n",
        "from sklearn.feature_extraction.text import TfidfVectorizer\n",
        "from sklearn.model_selection import KFold\n",
        "from sklearn.metrics import precision_recall_fscore_support, accuracy_score, matthews_corrcoef\n",
        "import pandas as pd\n",
        "import numpy as np\n",
        "from google.colab import drive"
      ]
    },
    {
      "cell_type": "code",
      "source": [
        "from google.colab import drive\n",
        "drive.mount('/content/drive')"
      ],
      "metadata": {
        "colab": {
          "base_uri": "https://localhost:8080/"
        },
        "id": "uVFe3rnXkB09",
        "outputId": "0bcb1fed-ca39-4821-b60f-89c4321495bb"
      },
      "execution_count": 110,
      "outputs": [
        {
          "output_type": "stream",
          "name": "stdout",
          "text": [
            "Drive already mounted at /content/drive; to attempt to forcibly remount, call drive.mount(\"/content/drive\", force_remount=True).\n"
          ]
        }
      ]
    },
    {
      "cell_type": "markdown",
      "metadata": {
        "id": "E4w8T__aXHaW"
      },
      "source": [
        "##Data processing"
      ]
    },
    {
      "cell_type": "code",
      "execution_count": 111,
      "metadata": {
        "id": "KxIzW4G6wm7o"
      },
      "outputs": [],
      "source": [
        "def getDataClass(df, dataColumnName, labelColumnName):\n",
        "  X = df.loc[:, dataColumnName].to_numpy()\n",
        "  y = df.loc[:, labelColumnName].to_numpy()\n",
        "\n",
        "  train_classes = ['']*4\n",
        "\n",
        "  n = np.size(X)\n",
        "\n",
        "  for i in range(n):\n",
        "    if (y[i] == 'B'):\n",
        "      train_classes[0] += str(X[i]) + '. '\n",
        "    \n",
        "    if (y[i] == 'D'):\n",
        "      train_classes[1] += str(X[i]) + '. '\n",
        "    \n",
        "    if (y[i] == 'I'):\n",
        "      train_classes[2] += str(X[i]) + '. '\n",
        "    \n",
        "    if (y[i] == 'P'):\n",
        "      train_classes[3] += str(X[i]) + '. '\n",
        "    \n",
        "  return train_classes\n"
      ]
    },
    {
      "cell_type": "code",
      "execution_count": 112,
      "metadata": {
        "id": "8BjRoY4y_bdK"
      },
      "outputs": [],
      "source": [
        "def getDataAndLabel(df, dataColumnName, labelColumnName):\n",
        "\n",
        "  X = df.loc[:, dataColumnName].to_numpy()\n",
        "  y = df.loc[:, labelColumnName].to_numpy()\n",
        "\n",
        "  n = np.size(X)\n",
        "\n",
        "  X_train = ['']*n\n",
        "  y_train = ['']*n\n",
        "\n",
        "  for i in range(n):\n",
        "    X_train[i] += str(X[i])\n",
        "    y_train[i] += str(y[i])\n",
        "\n",
        "  return X_train, y_train"
      ]
    },
    {
      "cell_type": "markdown",
      "metadata": {
        "id": "GIjbzQIBhTNh"
      },
      "source": [
        "##import data"
      ]
    },
    {
      "cell_type": "code",
      "execution_count": 113,
      "metadata": {
        "colab": {
          "base_uri": "https://localhost:8080/"
        },
        "id": "ZOr6lm4yiKyY",
        "outputId": "65c5b34d-a205-4fd6-e6f4-f0138d5b10da"
      },
      "outputs": [
        {
          "output_type": "stream",
          "name": "stdout",
          "text": [
            "Drive already mounted at /content/drive; to attempt to forcibly remount, call drive.mount(\"/content/drive\", force_remount=True).\n"
          ]
        }
      ],
      "source": [
        "# Import of the datasets\n",
        "drive.mount('/content/drive')\n",
        "\n",
        "df_train = pd.read_excel('/content/DATASET_downsampled.xlsx')\n",
        "df_test = pd.read_excel('/content/Trainingskorpus_Final.xlsx')\n",
        "\n",
        "# Import without google drive\n",
        "# df_train = pd.read_excel('DATASET_downsampled.xlsx')\n",
        "# df_test = pd.read_excel('Trainingskorpus_Final.xlsx')"
      ]
    },
    {
      "cell_type": "markdown",
      "metadata": {
        "id": "HVFv-oMBXM3Z"
      },
      "source": [
        "##Label functions"
      ]
    },
    {
      "cell_type": "code",
      "execution_count": 114,
      "metadata": {
        "id": "UIjxHsvRy9_y"
      },
      "outputs": [],
      "source": [
        "def getTfidf(document, stopWords):\n",
        "\n",
        "  tfidf = TfidfVectorizer(input = document, stop_words = stopWords)\n",
        "\n",
        "  X_train_transformed = tfidf.fit_transform(document)\n",
        "\n",
        "  terms = tfidf.get_feature_names_out()\n",
        "\n",
        "  # Sum tfidf frequency of each term through documents\n",
        "  sums = X_train_transformed.sum(axis=0)\n",
        "\n",
        "  # Connecting term to its sums frequency\n",
        "  data = []\n",
        "  for col, term in enumerate(terms):\n",
        "      data.append( (term, sums[0,col], col ))\n",
        "  M = np.transpose(X_train_transformed.toarray())\n",
        "\n",
        "  ranking = pd.DataFrame(data, columns=['term','rank', 'ID'])\n",
        "  ID_sorted = np.transpose(ranking.sort_values('rank', ascending=False).values)[2]\n",
        "\n",
        "\n",
        "  terms_sorted = []\n",
        "  for i, ID in enumerate(ID_sorted):\n",
        "    terms_sorted.append([terms[ID], ID])\n",
        "\n",
        "  return tfidf, terms_sorted, M"
      ]
    },
    {
      "cell_type": "code",
      "execution_count": 115,
      "metadata": {
        "id": "XdvBJRtEbKa1"
      },
      "outputs": [],
      "source": [
        "def predict(X, y, terms_sorted, M):\n",
        "\n",
        "  pred = []\n",
        "  \n",
        "  for review, label in zip(X, y):\n",
        "    weights = [0, 0, 0, 0]\n",
        "    for term, ID in terms_sorted:\n",
        "      if term in review:\n",
        "        weights += M[ID]\n",
        "    labels = [\"B\", \"D\", \"I\", \"P\"]\n",
        "    pred.append( labels[np.argmax(weights)] )\n",
        "\n",
        "  return pred\n"
      ]
    },
    {
      "cell_type": "markdown",
      "metadata": {
        "id": "Jzv1PEgRXSiU"
      },
      "source": [
        "##Evaluation on Testset"
      ]
    },
    {
      "cell_type": "code",
      "execution_count": 116,
      "metadata": {
        "colab": {
          "base_uri": "https://localhost:8080/"
        },
        "id": "pJd0_PaZwuCw",
        "outputId": "ccd87ce6-2078-4c78-b706-0b36a64cc43d"
      },
      "outputs": [
        {
          "output_type": "stream",
          "name": "stdout",
          "text": [
            "accuracy:  0.5548705302096177\n",
            "precision:  0.34482260415991095\n",
            "recall:  0.3971518987341772\n",
            "f1 score:  0.3235265239517646\n"
          ]
        }
      ],
      "source": [
        "train_classes = getDataClass(df_train, 'review', 'kano_labels')\n",
        "X_test, y_test = getDataAndLabel(df_test, 'review', 'kano_labels')\n",
        "\n",
        "tfidf, terms_sorted, M = getTfidf(train_classes, 'english')\n",
        "\n",
        "y_pred = predict(X_test, y_test, terms_sorted, M)\n",
        "\n",
        "acc = accuracy_score(y_test, y_pred)\n",
        "prec, rec, f1, supp = precision_recall_fscore_support(y_test, y_pred, average = 'macro')\n",
        "\n",
        "print(\"accuracy: \", acc)\n",
        "print(\"precision: \", prec)\n",
        "print(\"recall: \", rec)\n",
        "print(\"f1 score: \", f1)"
      ]
    },
    {
      "cell_type": "markdown",
      "metadata": {
        "id": "Klft5ddoVW3R"
      },
      "source": [
        "##Evaluation on Testset divided by labels"
      ]
    },
    {
      "cell_type": "code",
      "execution_count": 117,
      "metadata": {
        "colab": {
          "base_uri": "https://localhost:8080/"
        },
        "id": "zck_fIk5aTeM",
        "outputId": "98d13462-0197-4b0b-898c-eb9a81319901"
      },
      "outputs": [
        {
          "output_type": "stream",
          "name": "stdout",
          "text": [
            "------------------------------\n",
            "evaluating label B\n",
            "------------------------------\n",
            "accuracy:  0.6578947368421053\n",
            "precision:  0.25\n",
            "recall:  0.9144736842105263\n",
            "f1 score:  0.19841269841269843\n",
            "------------------------------\n",
            "evaluating label P\n",
            "------------------------------\n",
            "accuracy:  0.28860759493670884\n",
            "precision:  0.25\n",
            "recall:  0.8221518987341772\n",
            "f1 score:  0.11198428290766207\n",
            "------------------------------\n",
            "evaluating label D\n",
            "------------------------------\n",
            "accuracy:  0.6421052631578947\n",
            "precision:  0.25\n",
            "recall:  0.9105263157894736\n",
            "f1 score:  0.1955128205128205\n",
            "------------------------------\n",
            "evaluating label I\n",
            "------------------------------\n",
            "accuracy:  0.0\n",
            "precision:  0.25\n",
            "recall:  0.75\n",
            "f1 score:  0.0\n"
          ]
        }
      ],
      "source": [
        "train_classes = getDataClass(df_train, 'review', 'kano_labels')\n",
        "\n",
        "accuracy = []\n",
        "precision = []\n",
        "recall = []\n",
        "f1_score = []\n",
        "\n",
        "\n",
        "for label in [\"B\", \"P\", \"D\", \"I\"]:\n",
        "  X_test, y_test = getDataAndLabel(df_test[df_test.kano_labels == label], 'review', 'kano_labels')\n",
        "  print(\"------------------------------\")\n",
        "  print(\"evaluating label\", label)\n",
        "  print(\"------------------------------\")\n",
        "\n",
        "  tfidf, terms_sorted, M = getTfidf(train_classes, 'english')\n",
        "\n",
        "  y_pred = predict(X_test, y_test, terms_sorted, M)\n",
        "  acc = accuracy_score(y_test, y_pred)\n",
        "  prec, rec, f1, sup = precision_recall_fscore_support(y_test, y_pred, average='macro', zero_division = 1)\n",
        "\n",
        "  print(\"accuracy: \", acc)\n",
        "  print(\"precision: \", prec)\n",
        "  print(\"recall: \", rec)\n",
        "  print(\"f1 score: \", f1)\n",
        "\n",
        "  accuracy.append(acc)\n",
        "  precision.append(prec)\n",
        "  recall.append(rec)\n",
        "  f1_score.append(f1)"
      ]
    },
    {
      "cell_type": "markdown",
      "metadata": {
        "id": "fjtWbKDFVFDT"
      },
      "source": [
        "##Consistent vs. inconsistent labels"
      ]
    },
    {
      "cell_type": "code",
      "execution_count": 118,
      "metadata": {
        "colab": {
          "base_uri": "https://localhost:8080/"
        },
        "id": "aw201X5X0s1L",
        "outputId": "7179e1c3-260f-42ab-8277-38b53c2bdb87"
      },
      "outputs": [
        {
          "output_type": "stream",
          "name": "stdout",
          "text": [
            "Drive already mounted at /content/drive; to attempt to forcibly remount, call drive.mount(\"/content/drive\", force_remount=True).\n"
          ]
        }
      ],
      "source": [
        "# Import of 'Trainingskorpus_Final', which gives the final labeling\n",
        "drive.mount('/content/drive')\n",
        "testset1 = pd.read_excel('/content/Trainingskorpus_Final.xlsx')\n",
        "\n",
        "# Import without google drive\n",
        "# testset1 = pd.read_excel('Trainingskorpus_Final.xlsx')\n",
        "\n",
        "# Import of 'Trainingskorpus_InitialLabels', which gives the initial labeling of two sometimes differing labels\n",
        "testset2 = pd.read_excel('/content/Trainingskorpus_InitialLabels.xlsx')\n",
        "\n",
        "# Import without google drive\n",
        "# testset2 = pd.read_excel('Trainingskorpus_InitialLabels.xlsx')\n",
        "\n",
        "testset2 = testset2.drop(columns = ['Unnamed: 0'])\n",
        "\n",
        "# Merge the two sets so we have the final labels as well as the initial labels in the testset\n",
        "testset = testset1.merge(testset2, left_on='review', right_on='review')\n",
        "\n",
        "# Add a column 'equal' which is True if the two initial labels and false otherwise\n",
        "equal = []\n",
        "\n",
        "for label1, label2 in zip(testset['label 1'], testset['label 2']):\n",
        "  if(label1 == label2):\n",
        "    equal.append(True)\n",
        "  else:\n",
        "    equal.append(False)\n",
        "  \n",
        "testset['equal'] = equal"
      ]
    },
    {
      "cell_type": "code",
      "execution_count": 119,
      "metadata": {
        "colab": {
          "base_uri": "https://localhost:8080/"
        },
        "id": "RQZgoRn6VWyg",
        "outputId": "463f059b-22ca-4f7c-ae91-0db58208ab1f"
      },
      "outputs": [
        {
          "output_type": "stream",
          "name": "stdout",
          "text": [
            "Accuracy:  0.5548705302096177\n",
            "Precision, Recall, f1 Score, Support:  (0.34482260415991095, 0.3971518987341772, 0.3235265239517646, None)\n",
            "Phi Coefficient:  0.219140575663304\n",
            "[[169 553]\n",
            " [ 70 830]]\n"
          ]
        }
      ],
      "source": [
        "from sklearn.metrics._plot.confusion_matrix import confusion_matrix\n",
        "from pandas.io.formats.style_render import DataFrame\n",
        "train_classes = getDataClass(df_train, 'review', 'kano_labels')\n",
        "\n",
        "tfidf, terms_sorted, M = getTfidf(train_classes, 'english')\n",
        "\n",
        "# for e in [True, False]:\n",
        "#   X_test = testset[testset.equal == e].review\n",
        "#   y_test = testset[testset.equal == e].kano_labels\n",
        "\n",
        "#   y_pred = predict(X_test, y_test, terms_sorted, M)\n",
        "\n",
        "#   if(e):\n",
        "#     print(\"Consistent labels:\")\n",
        "#   else:\n",
        "#     print(\"---------\\nInconsistent labels:\")\n",
        "\n",
        "#   print(\"Accuracy: \", accuracy_score(y_test, y_pred))\n",
        "#   print(\"Precision, Recall, f1 Score, Support: \", precision_recall_fscore_support(y_test, y_pred, average='macro', zero_division=1))\n",
        "  #print(\"Phi Coefficient: \", matthews_corrcoef(y_test, y_pred))\n",
        "\n",
        "X_test = testset.review\n",
        "y_test = testset.kano_labels\n",
        "\n",
        "y_pred = predict(X_test, y_test, terms_sorted, M)\n",
        "\n",
        "print(\"Accuracy: \", accuracy_score(y_test, y_pred))\n",
        "print(\"Precision, Recall, f1 Score, Support: \", precision_recall_fscore_support(y_test, y_pred, average='macro', zero_division=1))\n",
        "\n",
        "pred_corr = []\n",
        "for pred, label in zip(y_pred, y_test):\n",
        "  pred_corr.append(pred == label)\n",
        "print(\"Phi Coefficient: \", matthews_corrcoef(pred_corr, testset.equal))\n",
        "print(confusion_matrix(pred_corr, testset.equal))"
      ]
    },
    {
      "cell_type": "markdown",
      "metadata": {
        "id": "bGMAnBaMZqc9"
      },
      "source": [
        "##10-fold cross-validation"
      ]
    },
    {
      "cell_type": "code",
      "execution_count": 120,
      "metadata": {
        "id": "QboY6bjbZlA9"
      },
      "outputs": [],
      "source": [
        "# Import of the dataset\n",
        "train_data = pd.read_excel('/content/DATASET_downsampled.xlsx')\n",
        "\n",
        "# Import without google drive\n",
        "# train_data = pd.read_excel('DATASET_downsampled.xlsx')\n",
        "\n",
        "# 10 fold cross validation\n",
        "n = 10\n",
        "kf = KFold(n_splits=n, random_state = 42, shuffle = True)\n",
        "\n",
        "# Lists to store the values for accuracy, precision, recall and f1-score for each label\n",
        "resultsAcc = [[],[],[],[],[]]\n",
        "resultsPrecision = [[],[],[],[],[]]\n",
        "resultsRecall = [[],[],[],[],[]]\n",
        "resultsf1 = [[],[],[],[],[]]\n",
        "\n",
        "for train_index, val_index in kf.split(train_data):\n",
        "  train_df = train_data.iloc[train_index]\n",
        "  val_df = train_data.iloc[val_index]\n",
        "\n",
        "  train_classes =  getDataClass(train_df, 'review', 'kano_labels')\n",
        "  tfidf, terms_sorted, M = getTfidf(train_classes, 'english')\n",
        "\n",
        "  # Evaluating on the val_df divided by labels\n",
        "  for i, label in zip(range(4), [\"B\", \"P\", \"D\", \"I\"]):\n",
        "    X_test, y_test = getDataAndLabel(val_df[val_df.kano_labels == label], 'review', 'kano_labels')\n",
        "\n",
        "    y_pred = predict(X_test, y_test, terms_sorted, M)\n",
        "\n",
        "    acc = accuracy_score(y_test, y_pred)\n",
        "    prec, rec, f1, sup = precision_recall_fscore_support(y_test, y_pred, average='macro', zero_division=1)\n",
        "\n",
        "    resultsAcc[i].append(acc)\n",
        "    resultsPrecision[i].append(prec)\n",
        "    resultsRecall[i].append(rec)\n",
        "    resultsf1[i].append(f1)\n",
        "  \n",
        "  # Evaluating on the whole val_df\n",
        "  X_test, y_test = getDataAndLabel(val_df, 'review', 'kano_labels')\n",
        "  \n",
        "  y_pred = predict(X_test, y_test, terms_sorted, M)\n",
        "\n",
        "  acc = accuracy_score(y_test, y_pred)\n",
        "  prec, rec, f1, sup = precision_recall_fscore_support(y_test, y_pred, average='macro', zero_division=1)\n",
        "\n",
        "  resultsAcc[4].append(acc)\n",
        "  resultsPrecision[4].append(prec)\n",
        "  resultsRecall[4].append(rec)\n",
        "  resultsf1[4].append(f1)\n",
        "  "
      ]
    },
    {
      "cell_type": "code",
      "execution_count": 121,
      "metadata": {
        "colab": {
          "base_uri": "https://localhost:8080/"
        },
        "id": "WW7xOesdZSsl",
        "outputId": "5d8d3733-9f1d-4ad2-f217-fffc4773e452"
      },
      "outputs": [
        {
          "output_type": "stream",
          "name": "stdout",
          "text": [
            "10-fold cross-validation\n",
            "------------\n",
            " basic \n",
            "------------\n",
            "Average accuracy:  0.787\n",
            "Average precision:  0.283\n",
            "Average recall:  0.94\n",
            "Average f1 score:  0.25\n",
            "------------\n",
            " performance \n",
            "------------\n",
            "Average accuracy:  0.528\n",
            "Average precision:  0.275\n",
            "Average recall:  0.87\n",
            "Average f1 score:  0.19\n",
            "------------\n",
            " delighter \n",
            "------------\n",
            "Average accuracy:  0.53\n",
            "Average precision:  0.258\n",
            "Average recall:  0.879\n",
            "Average f1 score:  0.179\n",
            "------------\n",
            " irrelevant \n",
            "------------\n",
            "Average accuracy:  0.235\n",
            "Average precision:  0.25\n",
            "Average recall:  0.809\n",
            "Average f1 score:  0.095\n",
            "------------\n",
            " overall \n",
            "------------\n",
            "Average accuracy:  0.52\n",
            "Average precision:  0.568\n",
            "Average recall:  0.52\n",
            "Average f1 score:  0.5\n"
          ]
        }
      ],
      "source": [
        "print(\"10-fold cross-validation\")\n",
        "for i, label in zip(range(5), [\"basic\", \"performance\", \"delighter\", \"irrelevant\", \"overall\"]):\n",
        "  print(\"------------\\n\", label, \"\\n------------\")\n",
        "  print(\"Average accuracy: \", np.round(np.average(resultsAcc[i]), 3))\n",
        "  print(\"Average precision: \", np.round(np.average(resultsPrecision[i]), 3))\n",
        "  print(\"Average recall: \", np.round(np.average(resultsRecall[i]), 3))\n",
        "  print(\"Average f1 score: \", np.round(np.average(resultsf1[i]), 3))\n",
        "     "
      ]
    }
  ],
  "metadata": {
    "colab": {
      "provenance": []
    },
    "kernelspec": {
      "display_name": "Python 3 (ipykernel)",
      "language": "python",
      "name": "python3"
    },
    "language_info": {
      "codemirror_mode": {
        "name": "ipython",
        "version": 3
      },
      "file_extension": ".py",
      "mimetype": "text/x-python",
      "name": "python",
      "nbconvert_exporter": "python",
      "pygments_lexer": "ipython3",
      "version": "3.10.6"
    }
  },
  "nbformat": 4,
  "nbformat_minor": 0
}