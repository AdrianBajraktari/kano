{
  "cells": [
    {
      "cell_type": "code",
      "execution_count": 10,
      "metadata": {
        "id": "mh7yA8sRwjH-"
      },
      "outputs": [],
      "source": [
        "# Imports\n",
        "from sklearn.feature_extraction.text import TfidfVectorizer\n",
        "from sklearn.model_selection import KFold\n",
        "from sklearn.metrics import precision_recall_fscore_support, accuracy_score, matthews_corrcoef\n",
        "from sklearn.linear_model import LogisticRegression\n",
        "import pandas as pd\n",
        "import numpy as np\n",
        "from google.colab import drive"
      ]
    },
    {
      "cell_type": "markdown",
      "metadata": {
        "id": "E4w8T__aXHaW"
      },
      "source": [
        "##Data processing"
      ]
    },
    {
      "cell_type": "code",
      "execution_count": 11,
      "metadata": {
        "id": "8BjRoY4y_bdK"
      },
      "outputs": [],
      "source": [
        "def getDataAndLabel(df, dataColumnName, labelColumnName):\n",
        "\n",
        "  X = df.loc[:, dataColumnName].to_numpy()\n",
        "  y = df.loc[:, labelColumnName].to_numpy()\n",
        "\n",
        "  n = np.size(X)\n",
        "\n",
        "  X_train = ['']*n\n",
        "  y_train = ['']*n\n",
        "\n",
        "  for i in range(n):\n",
        "    X_train[i] += str(X[i])\n",
        "    y_train[i] += str(y[i])\n",
        "\n",
        "  return X_train, y_train"
      ]
    },
    {
      "cell_type": "code",
      "execution_count": 12,
      "metadata": {
        "id": "gngIwYAMhDw8"
      },
      "outputs": [],
      "source": [
        "def getDataClass(df, dataColumnName, labelColumnName):\n",
        "  X = df.loc[:, dataColumnName].to_numpy()\n",
        "  y = df.loc[:, labelColumnName].to_numpy()\n",
        "\n",
        "  train_classes = ['']*4\n",
        "\n",
        "  n = np.size(X)\n",
        "\n",
        "  for i in range(n):\n",
        "    if (y[i] == 'B'):\n",
        "      train_classes[0] += str(X[i]) + '. '\n",
        "    \n",
        "    if (y[i] == 'D'):\n",
        "      train_classes[1] += str(X[i]) + '. '\n",
        "    \n",
        "    if (y[i] == 'I'):\n",
        "      train_classes[2] += str(X[i]) + '. '\n",
        "    \n",
        "    if (y[i] == 'P'):\n",
        "      train_classes[3] += str(X[i]) + '. '\n",
        "    \n",
        "  return train_classes"
      ]
    },
    {
      "cell_type": "markdown",
      "metadata": {
        "id": "GIjbzQIBhTNh"
      },
      "source": [
        "##Import data"
      ]
    },
    {
      "cell_type": "code",
      "execution_count": 13,
      "metadata": {
        "colab": {
          "base_uri": "https://localhost:8080/"
        },
        "id": "ZOr6lm4yiKyY",
        "outputId": "d6a7d180-3a2a-41ee-af8f-b1cb417ed99d"
      },
      "outputs": [
        {
          "output_type": "stream",
          "name": "stdout",
          "text": [
            "Drive already mounted at /content/drive; to attempt to forcibly remount, call drive.mount(\"/content/drive\", force_remount=True).\n"
          ]
        }
      ],
      "source": [
        "# Import of the datasets\n",
        "drive.mount('/content/drive')\n",
        "\n",
        "df_train = pd.read_excel('/content/DATASET_downsampled.xlsx')\n",
        "df_test = pd.read_excel('/content/Trainingskorpus_Final.xlsx')\n",
        "\n",
        "# Imports without google drive\n",
        "# df_train = pd.read_excel('DATASET_downsampled.xlsx')\n",
        "# df_test = pd.read_excel('Trainingskorpus_Final.xlsx')"
      ]
    },
    {
      "cell_type": "markdown",
      "metadata": {
        "id": "HVFv-oMBXM3Z"
      },
      "source": [
        "##Label functions"
      ]
    },
    {
      "cell_type": "code",
      "execution_count": 14,
      "metadata": {
        "id": "XdvBJRtEbKa1"
      },
      "outputs": [],
      "source": [
        "def predict(X_train, y_train, X_test, y_test, tfidf):\n",
        "\n",
        "  X_train_transformed = tfidf.fit_transform(X_train)\n",
        "  X_test_transformed = tfidf.transform(X_test)\n",
        "\n",
        "  lr = LogisticRegression(max_iter = 1000)\n",
        "  lr.fit(X_train_transformed, y_train)\n",
        "  y_pred = lr.predict(X_test_transformed)\n",
        "\n",
        "  return y_pred"
      ]
    },
    {
      "cell_type": "markdown",
      "metadata": {
        "id": "Jzv1PEgRXSiU"
      },
      "source": [
        "##Evaluation on Testset"
      ]
    },
    {
      "cell_type": "code",
      "execution_count": 15,
      "metadata": {
        "colab": {
          "base_uri": "https://localhost:8080/"
        },
        "id": "pJd0_PaZwuCw",
        "outputId": "54d7c371-db3f-4617-9d8f-0ab7b727f7b0"
      },
      "outputs": [
        {
          "output_type": "stream",
          "name": "stdout",
          "text": [
            "accuracy:  0.6029593094944513\n",
            "precision:  0.38779628836244895\n",
            "recall:  0.47060025117354715\n",
            "f1 score:  0.38829647694470637\n"
          ]
        }
      ],
      "source": [
        "X_train, y_train = getDataAndLabel(df_train, 'review', 'kano_labels')\n",
        "tfidf = TfidfVectorizer(input = getDataClass(df_train, 'review', 'kano_labels'), stop_words = \"english\")\n",
        "\n",
        "X_test, y_test = getDataAndLabel(df_test, 'review', 'kano_labels')\n",
        "\n",
        "y_pred = predict(X_train, y_train, X_test, y_test, tfidf)\n",
        "\n",
        "acc = accuracy_score(y_test, y_pred)\n",
        "prec, rec, f1, supp = precision_recall_fscore_support(y_test, y_pred, average = 'macro')\n",
        "\n",
        "print(\"accuracy: \", acc)\n",
        "print(\"precision: \", prec)\n",
        "print(\"recall: \", rec)\n",
        "print(\"f1 score: \", f1)"
      ]
    },
    {
      "cell_type": "markdown",
      "metadata": {
        "id": "vhkuRisJWDFj"
      },
      "source": [
        "##Evaluation on Testset divided by labels"
      ]
    },
    {
      "cell_type": "code",
      "execution_count": 16,
      "metadata": {
        "colab": {
          "base_uri": "https://localhost:8080/"
        },
        "id": "zck_fIk5aTeM",
        "outputId": "672c43ac-5476-4ea6-ee88-768e2c32ce70"
      },
      "outputs": [
        {
          "output_type": "stream",
          "name": "stdout",
          "text": [
            "------------------------------\n",
            "evaluating label B\n",
            "------------------------------\n",
            "accuracy:  0.6742286751361162\n",
            "precision:  0.25\n",
            "recall:  0.918557168784029\n",
            "f1 score:  0.2013550135501355\n",
            "------------------------------\n",
            "evaluating label P\n",
            "------------------------------\n",
            "accuracy:  0.4151898734177215\n",
            "precision:  0.25\n",
            "recall:  0.8537974683544304\n",
            "f1 score:  0.14669051878354203\n",
            "------------------------------\n",
            "evaluating label D\n",
            "------------------------------\n",
            "accuracy:  0.7263157894736842\n",
            "precision:  0.25\n",
            "recall:  0.9315789473684211\n",
            "f1 score:  0.21036585365853658\n",
            "------------------------------\n",
            "evaluating label I\n",
            "------------------------------\n",
            "accuracy:  0.06666666666666667\n",
            "precision:  0.25\n",
            "recall:  0.7666666666666667\n",
            "f1 score:  0.03125\n"
          ]
        }
      ],
      "source": [
        "X_train, y_train = getDataAndLabel(df_train, 'review', 'kano_labels')\n",
        "tfidf = TfidfVectorizer(input = getDataClass(df_train, 'review', 'kano_labels'), stop_words = \"english\")\n",
        "\n",
        "accuracy = []\n",
        "precision = []\n",
        "recall = []\n",
        "f1_score = []\n",
        "\n",
        "for label in [\"B\", \"P\", \"D\", \"I\"]:\n",
        "  X_test, y_test = getDataAndLabel(df_test[df_test.kano_labels == label], 'review', 'kano_labels')\n",
        "  print(\"------------------------------\")\n",
        "  print(\"evaluating label\", label)\n",
        "  print(\"------------------------------\")\n",
        "\n",
        "  y_pred = predict(X_train, y_train, X_test, y_test, tfidf)\n",
        "  acc = accuracy_score(y_test, y_pred)\n",
        "  prec, rec, f1, sup = precision_recall_fscore_support(y_test, y_pred, average='macro', zero_division = 1)\n",
        "\n",
        "  print(\"accuracy: \", acc)\n",
        "  print(\"precision: \", prec)\n",
        "  print(\"recall: \", rec)\n",
        "  print(\"f1 score: \", f1)\n",
        "\n",
        "  accuracy.append(acc)\n",
        "  precision.append(prec)\n",
        "  recall.append(rec)\n",
        "  f1_score.append(f1)\n"
      ]
    },
    {
      "cell_type": "markdown",
      "metadata": {
        "id": "fjtWbKDFVFDT"
      },
      "source": [
        "##Consistent vs. inconsistent labels"
      ]
    },
    {
      "cell_type": "code",
      "execution_count": 17,
      "metadata": {
        "colab": {
          "base_uri": "https://localhost:8080/"
        },
        "id": "aw201X5X0s1L",
        "outputId": "208b5b8e-086e-4f70-d056-a52aa5b742ed"
      },
      "outputs": [
        {
          "output_type": "stream",
          "name": "stdout",
          "text": [
            "Drive already mounted at /content/drive; to attempt to forcibly remount, call drive.mount(\"/content/drive\", force_remount=True).\n",
            "Drive already mounted at /content/drive; to attempt to forcibly remount, call drive.mount(\"/content/drive\", force_remount=True).\n"
          ]
        }
      ],
      "source": [
        "# Import of 'Trainingskorpus_Final', which gives the final labeling\n",
        "drive.mount('/content/drive')\n",
        "testset1 = pd.read_excel('/content/Trainingskorpus_Final.xlsx')\n",
        "\n",
        "# Import without google drive\n",
        "# testset1 = pd.read_excel('Trainingskorpus_Final.xlsx')\n",
        "\n",
        "# Import of 'TrainingskorpusBereinigt', which gives the initial labeling of two sometimes differing labels\n",
        "from google.colab import drive\n",
        "drive.mount('/content/drive')\n",
        "testset2 = pd.read_excel('/content/Trainingskorpus_InitialLabels.xlsx')\n",
        "\n",
        "# Import without google drive\n",
        "# testset2 = pd.read_excel('Trainingskorpus_InitialLabels.xlsx')\n",
        "\n",
        "testset2 = testset2.drop(columns = ['Unnamed: 0'])\n",
        "\n",
        "# Merge the two sets so we have the final labels as well as the initial labels in the testset\n",
        "testset = testset1.merge(testset2, left_on='review', right_on='review')\n",
        "\n",
        "# Add a column 'equal' which is True if the two initial labels and false otherwise\n",
        "equal = []\n",
        "\n",
        "for label1, label2 in zip(testset['label 1'], testset['label 2']):\n",
        "  if(label1 == label2):\n",
        "    equal.append(True)\n",
        "  else:\n",
        "    equal.append(False)\n",
        "  \n",
        "testset['equal'] = equal"
      ]
    },
    {
      "cell_type": "code",
      "execution_count": 18,
      "metadata": {
        "colab": {
          "base_uri": "https://localhost:8080/"
        },
        "id": "RQZgoRn6VWyg",
        "outputId": "b64a24b1-0757-4e01-e962-09c01b1d4191"
      },
      "outputs": [
        {
          "output_type": "stream",
          "name": "stdout",
          "text": [
            "Accuracy:  0.6029593094944513\n",
            "Precision, Recall, f1 Score, Support:  (0.38779628836244895, 0.47060025117354715, 0.38829647694470637, None)\n",
            "Phi Coefficient:  0.192346421175206\n",
            "[[149 495]\n",
            " [ 90 888]]\n"
          ]
        }
      ],
      "source": [
        "from sklearn.metrics._plot.confusion_matrix import confusion_matrix\n",
        "X_train, y_train = getDataAndLabel(df_train, 'review', 'kano_labels')\n",
        "\n",
        "X_test = testset.review\n",
        "y_test = testset.kano_labels\n",
        "\n",
        "y_pred = predict(X_train, y_train, X_test, y_test, tfidf)\n",
        "\n",
        "print(\"Accuracy: \", accuracy_score(y_test, y_pred))\n",
        "print(\"Precision, Recall, f1 Score, Support: \", precision_recall_fscore_support(y_test, y_pred, average='macro', zero_division=1))\n",
        "\n",
        "pred_corr = []\n",
        "for pred, label in zip(y_pred, y_test):\n",
        "  pred_corr.append(pred == label)\n",
        "print(\"Phi Coefficient: \", matthews_corrcoef(pred_corr, testset.equal))\n",
        "print(confusion_matrix(pred_corr, testset.equal))"
      ]
    },
    {
      "cell_type": "markdown",
      "metadata": {
        "id": "bGMAnBaMZqc9"
      },
      "source": [
        "##10-fold cross-validation"
      ]
    },
    {
      "cell_type": "code",
      "execution_count": 19,
      "metadata": {
        "id": "QboY6bjbZlA9"
      },
      "outputs": [],
      "source": [
        "# Import of the dataset\n",
        "train_data = pd.read_excel('/content/DATASET_downsampled.xlsx')\n",
        "\n",
        "# Import without google drive\n",
        "# train_data = pd.read_excel('DATASET_downsampled.xlsx')\n",
        "\n",
        "# 10 fold cross validation\n",
        "n = 10\n",
        "kf = KFold(n_splits=n, random_state = 42, shuffle = True)\n",
        "\n",
        "# Lists to store the values for accuracy, precision, recall and f1-score for each label\n",
        "resultsAcc = [[],[],[],[],[]]\n",
        "resultsPrecision = [[],[],[],[],[]]\n",
        "resultsRecall = [[],[],[],[],[]]\n",
        "resultsf1 = [[],[],[],[],[]]\n",
        "\n",
        "for train_index, val_index in kf.split(train_data):\n",
        "  train_df = train_data.iloc[train_index]\n",
        "  val_df = train_data.iloc[val_index]\n",
        "\n",
        "  X_train, y_train = getDataAndLabel(train_df, 'review', 'kano_labels')\n",
        "\n",
        "  # Evaluating on the val_df divided by labels\n",
        "  for i, label in zip(range(4), [\"B\", \"P\", \"D\", \"I\"]):\n",
        "    X_test, y_test = getDataAndLabel(val_df[val_df.kano_labels == label], 'review', 'kano_labels')\n",
        "\n",
        "    y_pred = predict(X_train, y_train, X_test, y_test, tfidf)\n",
        "\n",
        "    acc = accuracy_score(y_test, y_pred)\n",
        "    prec, rec, f1, sup = precision_recall_fscore_support(y_test, y_pred, average='macro', zero_division = 1)\n",
        "\n",
        "    resultsAcc[i].append(acc)\n",
        "    resultsPrecision[i].append(prec)\n",
        "    resultsRecall[i].append(rec)\n",
        "    resultsf1[i].append(f1)\n",
        "\n",
        "  # Evaluating on the whole val_df\n",
        "  X_test, y_test = getDataAndLabel(val_df, 'review', 'kano_labels')\n",
        "\n",
        "  y_pred = predict(X_train, y_train, X_test, y_test, tfidf)\n",
        "\n",
        "  acc = accuracy_score(y_test, y_pred)\n",
        "  prec, rec, f1, sup = precision_recall_fscore_support(y_test, y_pred, average='macro', zero_division = 1)\n",
        "\n",
        "  resultsAcc[4].append(acc)\n",
        "  resultsPrecision[4].append(prec)\n",
        "  resultsRecall[4].append(rec)\n",
        "  resultsf1[4].append(f1)"
      ]
    },
    {
      "cell_type": "code",
      "execution_count": 20,
      "metadata": {
        "colab": {
          "base_uri": "https://localhost:8080/"
        },
        "id": "WW7xOesdZSsl",
        "outputId": "3288cc6a-3f01-4c93-af54-4143a3393b8b"
      },
      "outputs": [
        {
          "output_type": "stream",
          "name": "stdout",
          "text": [
            "------------\n",
            " basic \n",
            "------------\n",
            "Average accuracy:  0.809\n",
            "Average precision:  0.267\n",
            "Average recall:  0.949\n",
            "Average f1 score:  0.238\n",
            "------------\n",
            " performance \n",
            "------------\n",
            "Average accuracy:  0.502\n",
            "Average precision:  0.25\n",
            "Average recall:  0.876\n",
            "Average f1 score:  0.166\n",
            "------------\n",
            " delighter \n",
            "------------\n",
            "Average accuracy:  0.549\n",
            "Average precision:  0.25\n",
            "Average recall:  0.887\n",
            "Average f1 score:  0.177\n",
            "------------\n",
            " irrelevant \n",
            "------------\n",
            "Average accuracy:  0.702\n",
            "Average precision:  0.258\n",
            "Average recall:  0.924\n",
            "Average f1 score:  0.213\n",
            "------------\n",
            " overall \n",
            "------------\n",
            "Average accuracy:  0.64\n",
            "Average precision:  0.637\n",
            "Average recall:  0.641\n",
            "Average f1 score:  0.638\n"
          ]
        }
      ],
      "source": [
        "for i, label in zip(range(5), [\"basic\", \"performance\", \"delighter\", \"irrelevant\", \"overall\"]):\n",
        "  print(\"------------\\n\", label, \"\\n------------\")\n",
        "  print(\"Average accuracy: \", np.round(np.average(resultsAcc[i]), 3))\n",
        "  print(\"Average precision: \", np.round(np.average(resultsPrecision[i]), 3))\n",
        "  print(\"Average recall: \", np.round(np.average(resultsRecall[i]), 3))\n",
        "  print(\"Average f1 score: \", np.round(np.average(resultsf1[i]), 3))"
      ]
    }
  ],
  "metadata": {
    "colab": {
      "provenance": []
    },
    "kernelspec": {
      "display_name": "Python 3 (ipykernel)",
      "language": "python",
      "name": "python3"
    },
    "language_info": {
      "codemirror_mode": {
        "name": "ipython",
        "version": 3
      },
      "file_extension": ".py",
      "mimetype": "text/x-python",
      "name": "python",
      "nbconvert_exporter": "python",
      "pygments_lexer": "ipython3",
      "version": "3.10.6"
    }
  },
  "nbformat": 4,
  "nbformat_minor": 0
}